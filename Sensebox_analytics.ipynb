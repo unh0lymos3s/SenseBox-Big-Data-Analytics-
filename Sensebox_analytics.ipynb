{
 "cells": [
  {
   "cell_type": "code",
   "execution_count": 1,
   "id": "c215aa7e",
   "metadata": {},
   "outputs": [],
   "source": [
    "import pyspark\n",
    "from pyspark import SparkContext\n",
    "from pyspark.sql import SparkSession\n",
    "from pyspark.sql import SQLContext\n",
    "from pyspark.sql.functions import col, explode, to_timestamp, udf, window, to_date, hour, date_format\n",
    "from pyspark.sql.functions import desc, max, avg ,count\n",
    "import matplotlib.pyplot as plt\n",
    "import seaborn as sns\n",
    "import pandas as pd\n",
    "from pyspark.sql.types import DoubleType,IntegerType\n",
    "from pyspark.ml.feature import StringIndexer, VectorAssembler\n",
    "from pyspark.ml.classification import LogisticRegression\n",
    "from pyspark.ml.evaluation import MulticlassClassificationEvaluator\n",
    "from pyspark.ml import Pipeline\n"
   ]
  },
  {
   "cell_type": "code",
   "execution_count": 2,
   "id": "2041df7e",
   "metadata": {},
   "outputs": [],
   "source": [
    "conf= pyspark.SparkConf().set(\"spark.jars.packages\",\\\n",
    "                              \"org.mongodb.spark:mongo-spark-connector_2.12:3.0.1\").\\\n",
    "                              setMaster(\"local\").setAppName(\"mongoJSON\").\\\n",
    "                              setAll([(\"spark.driver.memory\",\"40g\"), (\"spark.executor.memory\",\"50g\")])\\\n",
    "                              "
   ]
  },
  {
   "cell_type": "code",
   "execution_count": 3,
   "id": "bca97616",
   "metadata": {},
   "outputs": [],
   "source": [
    "# Create a SparkSession\n",
    "spark = SparkSession.\\\n",
    "builder.config(conf=conf).\\\n",
    "getOrCreate()"
   ]
  },
  {
   "cell_type": "code",
   "execution_count": 4,
   "id": "a52158d5",
   "metadata": {},
   "outputs": [],
   "source": [
    "mongo_ip=\"mongodb://localhost:27017/sensebox.\""
   ]
  },
  {
   "cell_type": "code",
   "execution_count": 5,
   "id": "67f566f6",
   "metadata": {},
   "outputs": [],
   "source": [
    "df=spark.read.format(\"com.mongodb.spark.sql.DefaultSource\").option(\"uri\", mongo_ip + \"data\").load()"
   ]
  },
  {
   "cell_type": "code",
   "execution_count": 6,
   "id": "6d1cfe4f",
   "metadata": {},
   "outputs": [
    {
     "data": {
      "text/plain": [
       "DataFrame[_id: string, createdAt: string, currentLocation: struct<coordinates:array<double>,timestamp:string,type:string>, description: string, exposure: string, grouptag: array<string>, image: string, lastMeasurementAt: string, model: string, name: string, sensors: array<struct<__v:int,_id:string,boxes_id:string,icon:string,lastMeasurement:string,sensorType:string,title:string,unit:string>>, updatedAt: string, weblink: string]"
      ]
     },
     "execution_count": 6,
     "metadata": {},
     "output_type": "execute_result"
    }
   ],
   "source": [
    "df.na.drop(how = \"any\")"
   ]
  },
  {
   "cell_type": "code",
   "execution_count": 7,
   "id": "505bd9e1",
   "metadata": {},
   "outputs": [
    {
     "name": "stdout",
     "output_type": "stream",
     "text": [
      "+--------------------+--------------------+--------------------+--------------------+--------+-----------+-----+--------------------+------+--------------------+--------------------+--------------------+-------+\n",
      "|                 _id|           createdAt|     currentLocation|         description|exposure|   grouptag|image|   lastMeasurementAt| model|                name|             sensors|           updatedAt|weblink|\n",
      "+--------------------+--------------------+--------------------+--------------------+--------+-----------+-----+--------------------+------+--------------------+--------------------+--------------------+-------+\n",
      "|5386026e5f0882200...|2022-03-30T11:25:...|{[10.599517878144...|                NULL| unknown|         []| NULL|                NULL|custom|            CALIMERO|[{0, 5386026e5f08...|2022-03-30T11:25:...|   NULL|\n",
      "|538ee6a4a83415541...|2022-03-30T11:25:...|{[9.2060887812476...|                NULL| unknown|         []| NULL|                NULL|custom|SenGIS Arbeitsgru...|[{0, 538ee6a4a834...|2022-03-30T11:25:...|   NULL|\n",
      "|5391be52a83415541...|2022-03-30T11:25:...|{[13.427610397338...|                NULL| unknown|         []| NULL|                NULL|custom|         LeKa Berlin|[{0, 5391be52a834...|2022-03-30T11:25:...|   NULL|\n",
      "|539c00c2a83415541...|2022-03-30T11:25:...|{[7.6231367513537...|                NULL| unknown|         []| NULL|                NULL|custom|      IV Gummersbach|[{0, 539c00c2a834...|2022-03-30T11:25:...|   NULL|\n",
      "|539fec94a83415541...|2022-03-30T11:25:...|{[8.7501597404479...|                NULL| unknown|         []| NULL|                NULL|custom|The PaderWarrior ...|[{0, 53bbe630e79c...|2022-03-30T11:25:...|   NULL|\n",
      "|53a0017aa83415541...|2022-03-30T11:25:...|{[13.306975364685...|                NULL| unknown|         []| NULL|                NULL|custom|         Alt-Lietzow|[{0, 53a0017aa834...|2022-03-30T11:25:...|   NULL|\n",
      "|53a0bb21a83415541...|2022-03-30T11:25:...|{[7.0, 52.0], 201...|                NULL| unknown|         []| NULL|                NULL|custom|            dataraus|[{0, 53a0bb21a834...|2022-03-30T11:25:...|   NULL|\n",
      "|53aaffafe79c90a01...|2022-03-30T11:25:...|{[13.286257982254...|                NULL| unknown|         []| NULL|                NULL|custom|    Berlin Tegel-Süd|[{0, 53aaffafe79c...|2022-03-30T11:25:...|   NULL|\n",
      "|53b2ab5de79c90a01...|2022-03-30T11:25:...|{[13.283028602600...|Östlich, ca. 50m ...| outdoor|         []| NULL|2022-07-22T14:18:...|custom|Berlin- Stadtring...|[{0, 53b2ab5de79c...|2022-07-22T14:18:...|   NULL|\n",
      "|53c576f2e79c90a01...|2022-03-30T11:25:...|{[7.0, 52.0], 201...|                NULL| unknown|         []| NULL|                NULL|custom|       Pader WM 2014|[{0, 53c576f2e79c...|2022-03-30T11:25:...|   NULL|\n",
      "|53c57d64e79c90a01...|2022-03-30T11:25:...|{[8.7526702880859...|                NULL| unknown|         []| NULL|                NULL|custom|            PaderBox|[{0, 53c57d64e79c...|2022-03-30T11:25:...|   NULL|\n",
      "|53c6cac8e79c90a01...|2022-03-30T11:25:...|{[12.910201549530...|                NULL| unknown|         []| NULL|                NULL|custom|             Omninet|[{0, 53c6cac8e79c...|2022-03-30T11:25:...|   NULL|\n",
      "|53cace31e79c90a01...|2022-03-30T11:25:...|{[13.4, 52.516701...|                NULL| unknown|         []| NULL|                NULL|custom|         senseboxTpf|[{0, 53cace31e79c...|2022-03-30T11:25:...|   NULL|\n",
      "|53d2c94de79c90a01...|2022-03-30T11:25:...|{[9.6811920404434...|                NULL| unknown|         []| NULL|                NULL|custom|             Jarosit|[{0, 53d2c94de79c...|2022-03-30T11:25:...|   NULL|\n",
      "|53edc2fde79c90a01...|2022-03-30T11:25:...|{[8.2472529999999...|                NULL| unknown|         []| NULL|                NULL|custom|            GeoMainz|[{0, 53edc2fde79c...|2022-03-30T11:25:...|   NULL|\n",
      "|540b2d53e79c90a01...|2022-03-30T11:25:...|{[7.0, 52.0], 201...|                NULL| unknown|         []| NULL|                NULL|custom|    Mueller_bobingen|[{0, 540b2d53e79c...|2022-03-30T11:25:...|   NULL|\n",
      "|545ba98b6c8bde3c1...|2022-03-30T11:25:...|{[7.7428346872329...|                NULL| unknown|         []| NULL|                NULL|custom| wetter_amtiergarten|[{NULL, 545ba98b6...|2022-03-30T11:25:...|   NULL|\n",
      "|54b2537896ca78540...|2022-03-30T11:25:...|{[7.7729466681557...|                NULL| unknown|         []| NULL|                NULL|custom|     [GIS-GK] Boenen|[{NULL, 54b253789...|2022-03-30T11:25:...|   NULL|\n",
      "|54d79ea81b93e9700...|2022-03-30T11:25:...|{[7.6049853, 51.9...|                NULL|  indoor|         []| NULL|                NULL|custom|       Aasee-Station|[{NULL, 54d79ea81...|2022-03-30T11:25:...|   NULL|\n",
      "|54e4c395a807ade00...|2022-03-30T11:25:...|{[8.6271321773529...|                NULL| outdoor|[MakeLight]| NULL|                NULL|custom|          hessetho_1|[{NULL, 54e4c395a...|2022-03-30T11:25:...|   NULL|\n",
      "+--------------------+--------------------+--------------------+--------------------+--------+-----------+-----+--------------------+------+--------------------+--------------------+--------------------+-------+\n",
      "only showing top 20 rows\n",
      "\n"
     ]
    }
   ],
   "source": [
    "df.show()"
   ]
  },
  {
   "cell_type": "code",
   "execution_count": 8,
   "id": "1cad9239",
   "metadata": {},
   "outputs": [
    {
     "name": "stdout",
     "output_type": "stream",
     "text": [
      "root\n",
      " |-- _id: string (nullable = true)\n",
      " |-- createdAt: string (nullable = true)\n",
      " |-- currentLocation: struct (nullable = true)\n",
      " |    |-- coordinates: array (nullable = true)\n",
      " |    |    |-- element: double (containsNull = true)\n",
      " |    |-- timestamp: string (nullable = true)\n",
      " |    |-- type: string (nullable = true)\n",
      " |-- description: string (nullable = true)\n",
      " |-- exposure: string (nullable = true)\n",
      " |-- grouptag: array (nullable = true)\n",
      " |    |-- element: string (containsNull = true)\n",
      " |-- image: string (nullable = true)\n",
      " |-- lastMeasurementAt: string (nullable = true)\n",
      " |-- model: string (nullable = true)\n",
      " |-- name: string (nullable = true)\n",
      " |-- sensors: array (nullable = true)\n",
      " |    |-- element: struct (containsNull = true)\n",
      " |    |    |-- __v: integer (nullable = true)\n",
      " |    |    |-- _id: string (nullable = true)\n",
      " |    |    |-- boxes_id: string (nullable = true)\n",
      " |    |    |-- icon: string (nullable = true)\n",
      " |    |    |-- lastMeasurement: string (nullable = true)\n",
      " |    |    |-- sensorType: string (nullable = true)\n",
      " |    |    |-- title: string (nullable = true)\n",
      " |    |    |-- unit: string (nullable = true)\n",
      " |-- updatedAt: string (nullable = true)\n",
      " |-- weblink: string (nullable = true)\n",
      "\n"
     ]
    }
   ],
   "source": [
    "df.printSchema()"
   ]
  },
  {
   "cell_type": "code",
   "execution_count": 9,
   "id": "e86c41be",
   "metadata": {},
   "outputs": [],
   "source": [
    "df = df.withColumn(\"createdAt\", to_timestamp(col(\"createdAt\"))) \\\n",
    "       .withColumn(\"updatedAt\", to_timestamp(col(\"updatedAt\")))\n"
   ]
  },
  {
   "cell_type": "code",
   "execution_count": 10,
   "id": "e9eed1fc",
   "metadata": {},
   "outputs": [
    {
     "name": "stdout",
     "output_type": "stream",
     "text": [
      "+--------------------+--------------------+--------------------+-----------+--------+--------+-----+-----------------+------+--------+--------------------+--------------------+-------+\n",
      "|                 _id|           createdAt|     currentLocation|description|exposure|grouptag|image|lastMeasurementAt| model|    name|             sensors|           updatedAt|weblink|\n",
      "+--------------------+--------------------+--------------------+-----------+--------+--------+-----+-----------------+------+--------+--------------------+--------------------+-------+\n",
      "|5386026e5f0882200...|2022-03-30 16:25:...|{[10.599517878144...|       NULL| unknown|      []| NULL|             NULL|custom|CALIMERO|[{0, 5386026e5f08...|2022-03-30 16:25:...|   NULL|\n",
      "+--------------------+--------------------+--------------------+-----------+--------+--------+-----+-----------------+------+--------+--------------------+--------------------+-------+\n",
      "only showing top 1 row\n",
      "\n"
     ]
    }
   ],
   "source": [
    "df.show(1)"
   ]
  },
  {
   "cell_type": "code",
   "execution_count": 11,
   "id": "ee7a6c7b",
   "metadata": {},
   "outputs": [],
   "source": [
    "sensors_df = df.withColumn(\"sensor\", explode(col(\"sensors\"))) \\\n",
    "               .select(\n",
    "                   col(\"_id\").alias(\"box_id\"),\n",
    "                   col(\"name\"),\n",
    "                   col(\"createdAt\"),\n",
    "                   col(\"updatedAt\"),\n",
    "                   col(\"currentLocation.coordinates\").alias(\"coordinates\"),\n",
    "                   col(\"sensor._id\").alias(\"sensor_id\"),\n",
    "                   col(\"sensor.lastMeasurement\"),\n",
    "                   col(\"sensor.sensorType\"),\n",
    "                   col(\"sensor.title\"),\n",
    "                   col(\"sensor.unit\")\n",
    "               )"
   ]
  },
  {
   "cell_type": "code",
   "execution_count": 12,
   "id": "2046a114",
   "metadata": {},
   "outputs": [
    {
     "name": "stdout",
     "output_type": "stream",
     "text": [
      "+--------------------+--------+--------------------+--------------------+--------------------+--------------------+--------------------+----------+----------+-----+\n",
      "|              box_id|    name|           createdAt|           updatedAt|         coordinates|           sensor_id|     lastMeasurement|sensorType|     title| unit|\n",
      "+--------------------+--------+--------------------+--------------------+--------------------+--------------------+--------------------+----------+----------+-----+\n",
      "|5386026e5f0882200...|CALIMERO|2022-03-30 16:25:...|2022-03-30 16:25:...|[10.5995178781449...|5386026e5f0882200...|5c5c00e7358095001...|    GL5528|Helligkeit|Pegel|\n",
      "+--------------------+--------+--------------------+--------------------+--------------------+--------------------+--------------------+----------+----------+-----+\n",
      "only showing top 1 row\n",
      "\n"
     ]
    }
   ],
   "source": [
    "sensors_df.show(1)"
   ]
  },
  {
   "cell_type": "code",
   "execution_count": 13,
   "id": "2c9dde6d",
   "metadata": {},
   "outputs": [],
   "source": [
    "temporal_df = sensors_df.groupBy(\"createdAt\").count().orderBy(\"createdAt\")\n"
   ]
  },
  {
   "cell_type": "code",
   "execution_count": 14,
   "id": "7a831955",
   "metadata": {},
   "outputs": [],
   "source": [
    "temporal_pd = temporal_df.toPandas()"
   ]
  },
  {
   "cell_type": "code",
   "execution_count": 15,
   "id": "2fa31b54",
   "metadata": {},
   "outputs": [
    {
     "data": {
      "image/png": "[encoded data removed]",
      "text/plain": [
       "<Figure size 1000x600 with 1 Axes>"
      ]
     },
     "metadata": {},
     "output_type": "display_data"
    }
   ],
   "source": [
    "plt.figure(figsize=(10, 6))\n",
    "sns.lineplot(data=temporal_pd, x=\"createdAt\", y=\"count\")\n",
    "plt.title('Temporal Distribution of Sensor Data Collection')\n",
    "plt.xlabel('Time')\n",
    "plt.ylabel('Number of Sensors')\n",
    "plt.show()\n"
   ]
  },
  {
   "cell_type": "code",
   "execution_count": 16,
   "id": "c6f356d4",
   "metadata": {},
   "outputs": [],
   "source": [
    "sensor_type_df = sensors_df.groupBy(\"sensorType\").count().orderBy(\"count\", ascending=False)\n"
   ]
  },
  {
   "cell_type": "code",
   "execution_count": 17,
   "id": "42418732",
   "metadata": {},
   "outputs": [
    {
     "name": "stdout",
     "output_type": "stream",
     "text": [
      "+-------------+-----+\n",
      "|   sensorType|count|\n",
      "+-------------+-----+\n",
      "|      SDS 011|15972|\n",
      "|       BME280|11925|\n",
      "|        DHT22| 5304|\n",
      "|      HDC1080| 4741|\n",
      "|       BME680| 3025|\n",
      "|       BMP280| 2424|\n",
      "|     VEML6070| 1921|\n",
      "|     TSL45315| 1834|\n",
      "|      HDC1008| 1025|\n",
      "|        SCD30|  891|\n",
      "| Colorimetrie|  868|\n",
      "|        SPS30|  822|\n",
      "|        SMT50|  772|\n",
      "|       SDS011|  692|\n",
      "|          AAS|  651|\n",
      "|        DHT11|  335|\n",
      "|       BMP180|  317|\n",
      "|Wetterstation|  311|\n",
      "|       kupfer|  238|\n",
      "|     PMS 7003|  219|\n",
      "+-------------+-----+\n",
      "only showing top 20 rows\n",
      "\n"
     ]
    }
   ],
   "source": [
    "sensor_type_df.show()"
   ]
  },
  {
   "cell_type": "code",
   "execution_count": 18,
   "id": "b0b544c4",
   "metadata": {},
   "outputs": [],
   "source": [
    "sensor_type_df_best = sensors_df.groupBy(\"sensorType\").count().orderBy(\"count\", ascending=False)"
   ]
  },
  {
   "cell_type": "code",
   "execution_count": 19,
   "id": "3cc68b19",
   "metadata": {},
   "outputs": [],
   "source": [
    "sensor_type_df_best = sensor_type_df_best.limit(10)"
   ]
  },
  {
   "cell_type": "code",
   "execution_count": 20,
   "id": "3993a30e",
   "metadata": {},
   "outputs": [],
   "source": [
    "sensor_type_df_best_pd = sensor_type_df_best.toPandas()"
   ]
  },
  {
   "cell_type": "code",
   "execution_count": 21,
   "id": "457ef620",
   "metadata": {},
   "outputs": [
    {
     "data": {
      "image/png": "[encoded data removed]",
      "text/plain": [
       "<Figure size 1000x1000 with 1 Axes>"
      ]
     },
     "metadata": {},
     "output_type": "display_data"
    }
   ],
   "source": [
    "\n",
    "plt.figure(figsize=(10, 10))\n",
    "sns.barplot(data=sensor_type_df_best_pd, x=\"sensorType\", y=\"count\")\n",
    "plt.title('Distribution of Sensor Types (Top 10)')\n",
    "plt.xlabel('Sensor Type')\n",
    "plt.ylabel('Count')\n",
    "plt.ylim(0,16000)\n",
    "plt.show()"
   ]
  },
  {
   "cell_type": "code",
   "execution_count": null,
   "id": "64c5124b",
   "metadata": {},
   "outputs": [],
   "source": []
  },
  {
   "cell_type": "code",
   "execution_count": 22,
   "id": "4edb0a48",
   "metadata": {},
   "outputs": [],
   "source": [
    "sensor_usage_per_year = sensors_df.groupBy(\"createdAt\", \"sensorType\") \\\n",
    "                                  .agg(count(\"*\").alias(\"usage_count\")) \\\n",
    "                                  .orderBy(\"createdAt\", desc(\"usage_count\"))\n",
    "\n"
   ]
  },
  {
   "cell_type": "code",
   "execution_count": 23,
   "id": "133b1bf1",
   "metadata": {},
   "outputs": [
    {
     "name": "stdout",
     "output_type": "stream",
     "text": [
      "+--------------------+----------+-----------+\n",
      "|           createdAt|sensorType|usage_count|\n",
      "+--------------------+----------+-----------+\n",
      "|2016-08-10 00:34:...|   HDC1008|          2|\n",
      "|2016-08-10 00:34:...|  TSL45315|          1|\n",
      "|2016-08-10 00:34:...|  VEML6070|          1|\n",
      "|2016-08-10 00:34:...|    BMP280|          1|\n",
      "|2017-03-03 23:20:...|    BME280|          3|\n",
      "|2017-03-03 23:20:...|    SDS011|          2|\n",
      "|2017-03-03 23:20:...|       DHT|          2|\n",
      "|2017-03-03 23:20:...|      WiFi|          1|\n",
      "|2017-03-03 23:20:...| Raspberry|          1|\n",
      "|2017-08-09 20:51:...|    BME280|          3|\n",
      "|2017-08-09 20:51:...|   SDS 011|          2|\n",
      "|2017-08-09 20:51:...|     DHT22|          2|\n",
      "|2018-04-02 03:11:...|   SDS 011|          2|\n",
      "|2018-04-02 03:11:...|     DHT22|          2|\n",
      "|2018-05-11 01:14:...|     DHT22|          2|\n",
      "|2018-05-11 01:14:...|   SDS 011|          2|\n",
      "|2018-06-29 22:26:...|   HDC1080|          2|\n",
      "|2018-06-29 22:26:...|   SDS 011|          2|\n",
      "|2018-06-29 22:26:...|  VEML6070|          1|\n",
      "|2018-06-29 22:26:...|    BMP280|          1|\n",
      "+--------------------+----------+-----------+\n",
      "only showing top 20 rows\n",
      "\n"
     ]
    }
   ],
   "source": [
    "sensor_usage_per_year.show()"
   ]
  },
  {
   "cell_type": "code",
   "execution_count": 24,
   "id": "edeabf2a",
   "metadata": {},
   "outputs": [],
   "source": [
    "sensor_usage_per_year_2 = sensors_df.groupBy(\"sensorType\").count().orderBy(\"count\", ascending=False)"
   ]
  },
  {
   "cell_type": "code",
   "execution_count": 25,
   "id": "74a144f0",
   "metadata": {},
   "outputs": [
    {
     "name": "stdout",
     "output_type": "stream",
     "text": [
      "+-------------+-----+\n",
      "|   sensorType|count|\n",
      "+-------------+-----+\n",
      "|      SDS 011|15972|\n",
      "|       BME280|11925|\n",
      "|        DHT22| 5304|\n",
      "|      HDC1080| 4741|\n",
      "|       BME680| 3025|\n",
      "|       BMP280| 2424|\n",
      "|     VEML6070| 1921|\n",
      "|     TSL45315| 1834|\n",
      "|      HDC1008| 1025|\n",
      "|        SCD30|  891|\n",
      "| Colorimetrie|  868|\n",
      "|        SPS30|  822|\n",
      "|        SMT50|  772|\n",
      "|       SDS011|  692|\n",
      "|          AAS|  651|\n",
      "|        DHT11|  335|\n",
      "|       BMP180|  317|\n",
      "|Wetterstation|  311|\n",
      "|       kupfer|  238|\n",
      "|     PMS 7003|  219|\n",
      "+-------------+-----+\n",
      "only showing top 20 rows\n",
      "\n"
     ]
    }
   ],
   "source": [
    "sensor_usage_per_year_2.show()"
   ]
  }
 ],
 "metadata": {
  "kernelspec": {
   "display_name": "Python 3 (ipykernel)",
   "language": "python",
   "name": "python3"
  },
  "language_info": {
   "codemirror_mode": {
    "name": "ipython",
    "version": 3
   },
   "file_extension": ".py",
   "mimetype": "text/x-python",
   "name": "python",
   "nbconvert_exporter": "python",
   "pygments_lexer": "ipython3",
   "version": "3.11.4"
  }
 },
 "nbformat": 4,
 "nbformat_minor": 5
}
